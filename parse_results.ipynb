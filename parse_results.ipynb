{
 "cells": [
  {
   "cell_type": "markdown",
   "metadata": {},
   "source": [
    "# Covid Mobility Data Analysis for Trend Prediction\n",
    "## Carson Woods, VZL837\n",
    "## CPSC 4180 Fall 2020 Final Project\n",
    "### Description:\n",
    "Parsing Results Gathered from Other Analysis Scripts \n",
    "\n",
    "NOTE: MUST RUN OTHER SCRIPTS BEFORE THIS ONE"
   ]
  },
  {
   "cell_type": "code",
   "execution_count": 1,
   "metadata": {},
   "outputs": [],
   "source": [
    "import os"
   ]
  },
  {
   "cell_type": "markdown",
   "metadata": {},
   "source": [
    "## Track Counts for Calculating Results"
   ]
  },
  {
   "cell_type": "code",
   "execution_count": 2,
   "metadata": {},
   "outputs": [],
   "source": [
    "driving_average = 0\n",
    "walking_average = 0\n",
    "residential_average = 0\n",
    "workplace_average = 0\n",
    "apple_count = 0\n",
    "google_count = 0\n",
    "\n",
    "rnn_val_loss_average = 0\n",
    "rnn_perf_loss_average = 0\n",
    "rnn_val_mean_sq_loss = 0\n",
    "rnn_perf_mean_sq_loss = 0\n",
    "\n",
    "lstm_val_loss_average = 0\n",
    "lstm_perf_loss_average = 0\n",
    "lstm_val_mean_sq_loss = 0\n",
    "lstm_perf_mean_sq_loss = 0\n",
    "\n",
    "gru_val_loss_average = 0\n",
    "gru_perf_loss_average = 0\n",
    "gru_val_mean_sq_loss = 0\n",
    "gru_perf_mean_sq_loss = 0\n",
    "\n",
    "ml_count = 0"
   ]
  },
  {
   "cell_type": "markdown",
   "metadata": {},
   "source": [
    "## Retrieve Results\n",
    "Iterates through all results and pulls out both machine learning and statistical regression results. "
   ]
  },
  {
   "cell_type": "code",
   "execution_count": 3,
   "metadata": {},
   "outputs": [],
   "source": [
    "for root, subdirs, files in os.walk('./results/'):\n",
    "    for file in files:\n",
    "        if file.endswith(\"regression_performance.txt\"):\n",
    "            with open(os.path.join(root, file), \"r\") as fp:\n",
    "                line = fp.readline()\n",
    "                while line:\n",
    "                    line = line.split()\n",
    "                    if 'Driving' in line:\n",
    "                        apple_count += 1\n",
    "                        driving_average += float(line[-1])\n",
    "                    elif 'Walking' in line:\n",
    "                        walking_average += float(line[-1])\n",
    "                    elif 'Residential' in line:\n",
    "                        google_count += 1\n",
    "                        residential_average += float(line[-1])\n",
    "                    elif 'Workplace' in line:\n",
    "                        workplace_average += float(line[-1])\n",
    "                    line = fp.readline()\n",
    "\n",
    "        if file.endswith('model_performance.txt'):\n",
    "            ml_count += 1\n",
    "            model_type = None\n",
    "            with open(os.path.join(root, file), \"r\") as fp:\n",
    "                line = fp.readline()\n",
    "                while line:\n",
    "                    line = line.split()\n",
    "                    if 'RNN_MODEL:' in line:\n",
    "                        model_type = 'rnn'\n",
    "                    elif 'LSTM_MODEL:' in line:\n",
    "                        model_type = 'lstm'\n",
    "                    elif 'GRU_MODEL:' in line:\n",
    "                        model_type = 'gru'\n",
    "                    elif 'Val' in line:\n",
    "                        if model_type == 'rnn':\n",
    "                            rnn_val_loss_average += float(line[2].strip(\"[], \"))\n",
    "                            rnn_val_mean_sq_loss += float(line[3].strip(\"[], \"))\n",
    "                        elif model_type == 'lstm':\n",
    "                            lstm_val_loss_average += float(line[2].strip(\"[], \"))\n",
    "                            lstm_val_mean_sq_loss += float(line[3].strip(\"[], \"))\n",
    "                        elif model_type == 'gru':\n",
    "                            gru_val_loss_average += float(line[2].strip(\"[], \"))\n",
    "                            gru_val_mean_sq_loss += float(line[3].strip(\"[], \"))\n",
    "                    elif 'Val' not in line and 'Performance:' in line:\n",
    "                        if model_type == 'rnn':\n",
    "                            rnn_perf_loss_average += float(line[1].strip(\"[], \"))\n",
    "                            rnn_perf_mean_sq_loss += float(line[2].strip(\"[], \"))\n",
    "                        elif model_type == 'lstm':\n",
    "                            lstm_perf_loss_average += float(line[1].strip(\"[], \"))\n",
    "                            lstm_perf_mean_sq_loss += float(line[2].strip(\"[], \"))\n",
    "                        elif model_type == 'gru':\n",
    "                            gru_perf_loss_average += float(line[1].strip(\"[], \"))\n",
    "                            gru_perf_mean_sq_loss += float(line[2].strip(\"[], \"))\n",
    "                    line = fp.readline()"
   ]
  },
  {
   "cell_type": "markdown",
   "metadata": {},
   "source": [
    "## Print Averages"
   ]
  },
  {
   "cell_type": "code",
   "execution_count": 4,
   "metadata": {},
   "outputs": [
    {
     "name": "stdout",
     "output_type": "stream",
     "text": [
      "REGRESSION AVERAGES:\n",
      "Driving Average: 0.17203693122238362\n",
      "Walking Average: 0.1376372425635124\n",
      "Residential Average: 0.1863099948290104\n",
      "Workplace Average: 0.09118629389262276\n",
      "\n",
      "ML AVERAGES:\n",
      "RNN Validation Loss Average:0.7812007593697515\n",
      "RNN Test Loss Average: 6.015554347942615\n",
      "LSTM Validation Loss Average: 0.45489337218218834\n",
      "LSTM Test Loss Average: 4.978740884312268\n",
      "GRU Validation Loss Average: 0.4576761242130707\n",
      "GRU Test Loss Average: 4.833332689671681\n"
     ]
    }
   ],
   "source": [
    "print(\"REGRESSION AVERAGES:\")\n",
    "print(\"Driving Average: \" + str(driving_average/apple_count))\n",
    "print(\"Walking Average: \" + str(walking_average/apple_count))\n",
    "print(\"Residential Average: \" + str(residential_average/google_count))\n",
    "print(\"Workplace Average: \" + str(workplace_average/google_count))\n",
    "\n",
    "print(\"\\nML AVERAGES:\")\n",
    "print(\"RNN Validation Loss Average:\" + str(rnn_val_loss_average/ml_count))\n",
    "print(\"RNN Test Loss Average: \" + str(rnn_perf_loss_average/ml_count))\n",
    "\n",
    "print(\"LSTM Validation Loss Average: \" + str(lstm_val_loss_average/ml_count))\n",
    "print(\"LSTM Test Loss Average: \" + str(lstm_perf_loss_average/ml_count))\n",
    "\n",
    "print(\"GRU Validation Loss Average: \" + str(gru_val_loss_average/ml_count))\n",
    "print(\"GRU Test Loss Average: \" + str(gru_perf_loss_average/ml_count))"
   ]
  }
 ],
 "metadata": {
  "kernelspec": {
   "display_name": "Python 3",
   "language": "python",
   "name": "python3"
  },
  "language_info": {
   "codemirror_mode": {
    "name": "ipython",
    "version": 3
   },
   "file_extension": ".py",
   "mimetype": "text/x-python",
   "name": "python",
   "nbconvert_exporter": "python",
   "pygments_lexer": "ipython3",
   "version": "3.8.3"
  }
 },
 "nbformat": 4,
 "nbformat_minor": 4
}
