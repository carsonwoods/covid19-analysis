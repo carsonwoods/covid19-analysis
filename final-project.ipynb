{
 "cells": [
  {
   "cell_type": "markdown",
   "metadata": {},
   "source": [
    "# Covid Mobility Data Analysis for Trend Prediction\n",
    "## Carson Woods, VZL837\n",
    "## CPSC 4180 Fall 2020 Final Project\n",
    "\n",
    "#### Description:\n"
   ]
  },
  {
   "cell_type": "code",
   "execution_count": 9,
   "metadata": {},
   "outputs": [],
   "source": [
    "from datetime import datetime\n",
    "import pandas as pd"
   ]
  },
  {
   "cell_type": "code",
   "execution_count": 10,
   "metadata": {},
   "outputs": [],
   "source": [
    "# Read in Apple Mobility Data\n",
    "apple_data = pd.read_csv('./data/applemobilitytrends-2020-09-21.csv', low_memory=False)\n",
    "\n",
    "# Extract column names to be renamed\n",
    "apple_date_columns = apple_data.loc[:, '1/22/2020':]\n",
    "column_names = apple_date_columns.columns\n",
    "updated_column_names = []\n",
    "\n",
    "# Convert column names to have matching date format\n",
    "for name in column_names:\n",
    "    date = datetime.strptime(name, '%m/%d/%Y').strftime('%Y-%m-%d')\n",
    "    updated_column_names.append(date)\n",
    "\n",
    "# Update names and reform original DataFrame\n",
    "apple_date_columns.columns = updated_column_names\n",
    "apple_data = pd.concat([apple_data.loc[:,:'country'], apple_date_columns], axis=1)\n",
    "\n",
    "# Forcibly clean up duplicate date columns to preserve memory\n",
    "del apple_date_columns\n",
    "del column_names\n",
    "del updated_column_names\n",
    "\n",
    "\n",
    "# Break the data into more specific subsets.\n",
    "# The data has the following structure (from broad to specific):\n",
    "# Country/Region -> Sub-Region(States in the US) -> County -> City\n",
    "apple_countries = apple_data.loc[apple_data['geo_type'] == 'country/region']\n",
    "apple_sub_regions = apple_data.loc[apple_data['geo_type'] == 'sub-region']\n",
    "apple_counties = apple_data.loc[apple_data['geo_type'] == 'county']\n",
    "apple_cities = apple_data.loc[apple_data['geo_type'] == 'city']"
   ]
  },
  {
   "cell_type": "code",
   "execution_count": 11,
   "metadata": {},
   "outputs": [],
   "source": [
    "# Read in JHU time series data\n",
    "# Date format mismatches with Apple/Google datasets\n",
    "# Perform preprocessing to ensure compatibility\n",
    "jhu_data = pd.read_csv('./data/COVID-19/csse_covid_19_data/csse_covid_19_time_series/time_series_covid19_confirmed_global.csv')\n",
    "\n",
    "# Extract column names to be renamed\n",
    "jhu_date_columns = jhu_data.loc[:, '1/22/20':]\n",
    "column_names = jhu_date_columns.columns\n",
    "updated_column_names = []\n",
    "\n",
    "# Convert column names to have matching date format\n",
    "for name in column_names:\n",
    "    date = datetime.strptime(name, '%m/%d/%y').strftime('%Y-%m-%d')\n",
    "    updated_column_names.append(date)\n",
    "\n",
    "# Update names and reform original DataFrame\n",
    "jhu_date_columns.columns = updated_column_names\n",
    "jhu_data = pd.concat([jhu_data.loc[:,:'Long'], jhu_date_columns], axis=1)\n",
    "\n",
    "# Forcibly clean up duplicate date columns to preserve memory\n",
    "del jhu_date_columns\n",
    "del column_names\n",
    "del updated_column_names\n"
   ]
  },
  {
   "cell_type": "code",
   "execution_count": 24,
   "metadata": {},
   "outputs": [],
   "source": [
    "# List of DataFrames for each country\n",
    "country_df_list = []\n",
    "\n",
    "for index, row in apple_countries.iterrows():\n",
    "    country_name = row['region'].strip()\n",
    "\n",
    "    # Flag for determining if matching country dataframe was found\n",
    "    found = False\n",
    "\n",
    "    for index, df in enumerate(country_df_list):\n",
    "        if df['region'].iloc[0].strip() == country_name:\n",
    "            modified_df = country_df_list[index].append(row,\n",
    "                                                        ignore_index=True)\n",
    "            country_df_list[index] = modified_df\n",
    "            found = True\n",
    "\n",
    "    if not found:\n",
    "        country_df_list.append(row.to_frame().T)\n",
    "\n",
    "\n",
    "# Converts the \"direction type\" index label to be a more general \"datatype\"\n",
    "# This now indicates whether it was walking, driving, transit, or covid\n",
    "# Where covid data is JHU time series data, and all other data is apple maps\n",
    "# mobility statistics.\n",
    "for index, df in enumerate(country_df_list):\n",
    "    df.columns = ['datatype' if x == 'transportation_type'\n",
    "                  else x for x in df.columns]\n",
    "    country_df_list[index][['geo_type']] = df[['geo_type']].astype(str)\n",
    "\n",
    "\n",
    "# Adds time series data for each country into each country's dataframe\n",
    "for index, row in jhu_data.iterrows():\n",
    "    country_name = row['Country/Region'].strip()\n",
    "    subregion_name = str(row['Province/State']).strip()\n",
    "\n",
    "    # This step gets each row into a labeled format that is compatible\n",
    "    # with the dataframes in the country_df_list. This does not mean that the\n",
    "    # element counts will be compatible. Apple/Google are missing some days and\n",
    "    # JHU has more data available to it. The synchronization will\n",
    "    # need to be done in an additional for loop.\n",
    "    \n",
    "    row = pd.concat([pd.Series(['country/region',\n",
    "                                row[1],\n",
    "                                'covid',\n",
    "                                subregion_name,\n",
    "                                country_name]),\n",
    "                    row['2020-01-22':'2020-09-21']],\n",
    "                    axis=0)\n",
    "    \n",
    "    for index, df in enumerate(country_df_list):\n",
    "        if df['region'].iloc[0].strip() == country_name:\n",
    "            new_index = ['geo_type', \n",
    "                         'region', \n",
    "                         'datatype',\n",
    "                         'sub-region',\n",
    "                         'country']\n",
    "            new_index.extend(list(row.index.values[5:]))\n",
    "            row.index = new_index\n",
    "            modified_df = country_df_list[index].append(row,\n",
    "                                                        ignore_index=True)\n",
    "            country_df_list[index] = modified_df\n"
   ]
  },
  {
   "cell_type": "code",
   "execution_count": 25,
   "metadata": {},
   "outputs": [
    {
     "data": {
      "text/plain": [
       "geo_type      country/region\n",
       "region               Albania\n",
       "datatype             driving\n",
       "sub-region               NaN\n",
       "country                  NaN\n",
       "                   ...      \n",
       "2020-09-17            140.86\n",
       "2020-09-18            151.82\n",
       "2020-09-19            164.99\n",
       "2020-09-20               160\n",
       "2020-09-21             126.6\n",
       "Name: 0, Length: 249, dtype: object"
      ]
     },
     "execution_count": 25,
     "metadata": {},
     "output_type": "execute_result"
    }
   ],
   "source": [
    "country_df_list[0]"
   ]
  },
  {
   "cell_type": "code",
   "execution_count": null,
   "metadata": {},
   "outputs": [],
   "source": []
  }
 ],
 "metadata": {
  "kernelspec": {
   "display_name": "Python 3",
   "language": "python",
   "name": "python3"
  },
  "language_info": {
   "codemirror_mode": {
    "name": "ipython",
    "version": 3
   },
   "file_extension": ".py",
   "mimetype": "text/x-python",
   "name": "python",
   "nbconvert_exporter": "python",
   "pygments_lexer": "ipython3",
   "version": "3.7.7"
  }
 },
 "nbformat": 4,
 "nbformat_minor": 4
}
